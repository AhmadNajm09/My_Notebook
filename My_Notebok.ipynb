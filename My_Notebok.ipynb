{
  "metadata": {
    "language_info": {
      "codemirror_mode": {
        "name": "python",
        "version": 3
      },
      "file_extension": ".py",
      "mimetype": "text/x-python",
      "name": "python",
      "nbconvert_exporter": "python",
      "pygments_lexer": "ipython3",
      "version": "3.8"
    },
    "kernelspec": {
      "name": "python",
      "display_name": "Python (Pyodide)",
      "language": "python"
    }
  },
  "nbformat_minor": 4,
  "nbformat": 4,
  "cells": [
    {
      "cell_type": "markdown",
      "source": "## Ex:2 Markdown Cell with the title\n\n# My_Notebook",
      "metadata": {}
    },
    {
      "cell_type": "markdown",
      "source": "# Markdown cell in jupyter notebook\nThere are two types of Notebook. This test based on Markdown.\n+ Markdown\n+ Code",
      "metadata": {}
    },
    {
      "cell_type": "markdown",
      "source": "# Markdown cell create with Introductory Sentence\nThere are many Languages that are used by Data Scientists, \nData Analyst and Data Engineers. Some Important list of \nData Science Language are given Below: \n\nBy Uning Ordered list:\n\n1. Python\n2. R and RStudio\n3. SQL\n4. Julie\n5. JavaScript",
      "metadata": {}
    },
    {
      "cell_type": "markdown",
      "source": "# Markdown cell, Introductory Sentence with Data Science Labraries\nThere are many Data Science Labraries that are used by \nData Scientists, Data Analyst and Data Engineers. Some Important list of \nData Science Labraries are given Below: \n\nBy Uning Ordered list:\n\n1. Python Libraries\n    1.  Scientific Libraries\n    2.  Visualization Libraries \n    3.  Machine Learning and Deep-learning Labraries\n2. R Libraries \n \n   ggplot2 is a popular library for data visualization.    ",
      "metadata": {}
    },
    {
      "cell_type": "markdown",
      "source": "# Table of Data Science Tools\n\n    | Sr. |  Data Science Tools  |\n    |-----|----------------------|\n    |  1  | Watson studio by IBM |\n    |  2  | IBM Congnos Dashboard|\n    |  3  | MySQL                |\n    |  4  | Postgre SQL          |\n    |  5  | Python               |\n    |  6  | RStudio              |",
      "metadata": {}
    },
    {
      "cell_type": "markdown",
      "source": "# Markdown Ex:7\n## Introduction to Arthmetic Expression\n\nAn expression that only contains arithmetics operands and operators \nis called an **Arithmetic experison**.\n\n#### Examples\n\n + **(3+4)** The sum of numbers in an arithmetic expression\n + **(14-9)** The difference of numbers is an arithmetic expression\n + **(14*2)** The Product of two numbers in arithmetic expression",
      "metadata": {}
    },
    {
      "cell_type": "code",
      "source": "x=15\ny=25\nz=x+y\nprint(z)",
      "metadata": {
        "trusted": true
      },
      "execution_count": 4,
      "outputs": [
        {
          "name": "stdout",
          "text": "40\n",
          "output_type": "stream"
        }
      ]
    },
    {
      "cell_type": "code",
      "source": "w= 4*z\nprint(w)",
      "metadata": {
        "trusted": true
      },
      "execution_count": 8,
      "outputs": [
        {
          "name": "stdout",
          "text": "160\n",
          "output_type": "stream"
        }
      ]
    },
    {
      "cell_type": "code",
      "source": "q = w/x\nprint(q)",
      "metadata": {
        "trusted": true
      },
      "execution_count": 9,
      "outputs": [
        {
          "name": "stdout",
          "text": "10.666666666666666\n",
          "output_type": "stream"
        }
      ]
    },
    {
      "cell_type": "markdown",
      "source": "## Minutes to Hours\n\nEnter Minutes into \"min\" commad Which you want to find:",
      "metadata": {}
    },
    {
      "cell_type": "code",
      "source": "min = 240\nhours = (min/60)\nprint(hours)",
      "metadata": {
        "trusted": true
      },
      "execution_count": 15,
      "outputs": [
        {
          "name": "stdout",
          "text": "4.0\n",
          "output_type": "stream"
        }
      ]
    },
    {
      "cell_type": "markdown",
      "source": "# Markdown cell create with Introductory Sentence\n\n## Unordered List\n   There are two types of List:\n   + Ordered List\n   + Unordered List\n\nExample of using Unordered list:\n  In \"Skill Network Lab\" we have several Tool bar options\n   + File\n   + Edit\n   + View\n   + Run\n   + Kernel\n   + Diagram",
      "metadata": {}
    },
    {
      "cell_type": "markdown",
      "source": "## Author\n\n   + IBM Team\n   \n\n\n## Change Log\n\n| Date (YYYY-MM-DD) | Version | Changed By | Change Description                 |\n| ----------------- | ------- | ---------- | ---------------------------------- |\n| 13-07-2023        | 0.1     | IBM Team     | Created Initial version    |\n\n",
      "metadata": {}
    },
    {
      "cell_type": "code",
      "source": "",
      "metadata": {},
      "execution_count": null,
      "outputs": []
    }
  ]
}